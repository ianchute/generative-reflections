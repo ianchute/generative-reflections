{
 "cells": [
  {
   "cell_type": "code",
   "execution_count": 1,
   "metadata": {},
   "outputs": [
    {
     "name": "stderr",
     "output_type": "stream",
     "text": [
      "Some weights of RobertaModel were not initialized from the model checkpoint at ./results_masked/checkpoint-39000 and are newly initialized: ['roberta.pooler.dense.bias', 'roberta.pooler.dense.weight']\n",
      "You should probably TRAIN this model on a down-stream task to be able to use it for predictions and inference.\n"
     ]
    }
   ],
   "source": [
    "from transformers import AutoTokenizer, pipeline\n",
    "\n",
    "tokenizer_gen = AutoTokenizer.from_pretrained(\"distilgpt2\", padding_side=\"left\")\n",
    "generator = pipeline(\n",
    "    \"text-generation\",\n",
    "    \"./results_causal/checkpoint-39000\",\n",
    "    tokenizer=tokenizer_gen,\n",
    "    pad_token_id=50256,\n",
    ")\n",
    "\n",
    "tokenizer_ref = AutoTokenizer.from_pretrained(\"distilroberta-base\", padding_side=\"left\")\n",
    "reflector = pipeline(\n",
    "    \"feature-extraction\",\n",
    "    \"./results_masked/checkpoint-39000\",\n",
    "    tokenizer=tokenizer_ref,\n",
    "    pad_token_id=50256,\n",
    ")"
   ]
  },
  {
   "cell_type": "code",
   "execution_count": 2,
   "metadata": {},
   "outputs": [],
   "source": [
    "samples = generator(\n",
    "    text_inputs=\"Bayesian\", num_return_sequences=1000, max_length=35, truncation=True\n",
    ")"
   ]
  },
  {
   "cell_type": "code",
   "execution_count": 3,
   "metadata": {},
   "outputs": [],
   "source": [
    "import numpy as np\n",
    "outputs = reflector([s[\"generated_text\"] for s in samples])\n",
    "outputs = np.array([output[-1][-1] for output in outputs])"
   ]
  },
  {
   "cell_type": "code",
   "execution_count": 4,
   "metadata": {},
   "outputs": [],
   "source": [
    "from sklearn.metrics.pairwise import cosine_distances\n",
    "V = np.load(\"vectors_samples.npy\")\n",
    "D = cosine_distances(outputs, V)"
   ]
  },
  {
   "cell_type": "code",
   "execution_count": 64,
   "metadata": {},
   "outputs": [
    {
     "data": {
      "text/plain": [
       "988"
      ]
     },
     "execution_count": 64,
     "metadata": {},
     "output_type": "execute_result"
    }
   ],
   "source": [
    "idx_novelty = D.min(axis=1) >= 0.001\n",
    "idx_novelty.sum()"
   ]
  },
  {
   "cell_type": "code",
   "execution_count": 67,
   "metadata": {},
   "outputs": [
    {
     "data": {
      "text/plain": [
       "881"
      ]
     },
     "execution_count": 67,
     "metadata": {},
     "output_type": "execute_result"
    }
   ],
   "source": [
    "idx_feasibility = (D <= 0.003).sum(axis=1) >= 50\n",
    "idx_feasibility.sum()"
   ]
  },
  {
   "cell_type": "code",
   "execution_count": 68,
   "metadata": {},
   "outputs": [
    {
     "data": {
      "text/plain": [
       "869"
      ]
     },
     "execution_count": 68,
     "metadata": {},
     "output_type": "execute_result"
    }
   ],
   "source": [
    "idx_objective = idx_novelty & idx_feasibility\n",
    "idx_objective.sum()"
   ]
  },
  {
   "cell_type": "markdown",
   "metadata": {},
   "source": [
    "### Generated Samples that passed"
   ]
  },
  {
   "cell_type": "code",
   "execution_count": 69,
   "metadata": {},
   "outputs": [
    {
     "data": {
      "text/html": [
       "<div>\n",
       "<style scoped>\n",
       "    .dataframe tbody tr th:only-of-type {\n",
       "        vertical-align: middle;\n",
       "    }\n",
       "\n",
       "    .dataframe tbody tr th {\n",
       "        vertical-align: top;\n",
       "    }\n",
       "\n",
       "    .dataframe thead th {\n",
       "        text-align: right;\n",
       "    }\n",
       "</style>\n",
       "<table border=\"1\" class=\"dataframe\">\n",
       "  <thead>\n",
       "    <tr style=\"text-align: right;\">\n",
       "      <th></th>\n",
       "      <th>generated_text</th>\n",
       "    </tr>\n",
       "  </thead>\n",
       "  <tbody>\n",
       "    <tr>\n",
       "      <th>0</th>\n",
       "      <td>Bayesian Neural Networks for Model-based Nonparametric Estimation and Reconstruction in the Real World Using a Single Tree Search Methodology, a Benchmark, and the Knowledge Graph</td>\n",
       "    </tr>\n",
       "    <tr>\n",
       "      <th>2</th>\n",
       "      <td>Bayesian Contrastive Learning For Deep Learning Evaluation of Deep Reinforcement Learning System with Limited Data Bases Using Differentiable Models with Applications to Heterogeneous Hardware Systems Evaluation Workflow</td>\n",
       "    </tr>\n",
       "    <tr>\n",
       "      <th>3</th>\n",
       "      <td>Bayesian Optimization of Multi-Graph Networks with Bayesian Inference with Continuous and Continuous Data Mining: A Comparative Study (Exam) and Applications in Bayesian Rein</td>\n",
       "    </tr>\n",
       "    <tr>\n",
       "      <th>4</th>\n",
       "      <td>Bayesian Contrastive Learning with Multiple Convex Optimization for Efficient Neural Networks Classification Problem: An Overview and Analysis of the Case of Dense Computing in Real-World</td>\n",
       "    </tr>\n",
       "    <tr>\n",
       "      <th>5</th>\n",
       "      <td>Bayesian Neural Networks for Learning to Generate Data for Multi-Sensor Data and Dataset Knowledge Networks for Smartphones via Deep Neural Networks for Micro-Sensor Imaging and Diagn</td>\n",
       "    </tr>\n",
       "    <tr>\n",
       "      <th>6</th>\n",
       "      <td>Bayesian deep learning and its evaluation as an adversarial attack on Riemannian random forest theory and its applications to online image classification and machine learning applications in clinical image classification</td>\n",
       "    </tr>\n",
       "    <tr>\n",
       "      <th>7</th>\n",
       "      <td>Bayesian Inference with a Differential Privacy for Learning Structured Relationships of Class Tasks using Probabilistic Bayes' Modeling System in the Cloud: a Data</td>\n",
       "    </tr>\n",
       "    <tr>\n",
       "      <th>9</th>\n",
       "      <td>Bayesian Optimization and the Effect of Bayes Approxima in Dynamic Data Augmentation and Data Estimation via Randomized Weight-Bias Analysis and a Bias-</td>\n",
       "    </tr>\n",
       "    <tr>\n",
       "      <th>10</th>\n",
       "      <td>Bayesian Algebraically-Aware Learning with Discriminative Convexity and Its Utility Function for Nonintrusive Features of Gaussian Processes: A</td>\n",
       "    </tr>\n",
       "    <tr>\n",
       "      <th>12</th>\n",
       "      <td>Bayesian Inference for Cross-Modal Meta-Learning of Multi-task Learning Sets with Limited Information Bottleneck Methods with Limited Information Bottleneck Costs: A Data Mining Approach</td>\n",
       "    </tr>\n",
       "  </tbody>\n",
       "</table>\n",
       "</div>"
      ],
      "text/plain": [
       "                                                                                                                                                                                                                  generated_text\n",
       "0                                            Bayesian Neural Networks for Model-based Nonparametric Estimation and Reconstruction in the Real World Using a Single Tree Search Methodology, a Benchmark, and the Knowledge Graph\n",
       "2   Bayesian Contrastive Learning For Deep Learning Evaluation of Deep Reinforcement Learning System with Limited Data Bases Using Differentiable Models with Applications to Heterogeneous Hardware Systems Evaluation Workflow\n",
       "3                                                 Bayesian Optimization of Multi-Graph Networks with Bayesian Inference with Continuous and Continuous Data Mining: A Comparative Study (Exam) and Applications in Bayesian Rein\n",
       "4                                    Bayesian Contrastive Learning with Multiple Convex Optimization for Efficient Neural Networks Classification Problem: An Overview and Analysis of the Case of Dense Computing in Real-World\n",
       "5                                        Bayesian Neural Networks for Learning to Generate Data for Multi-Sensor Data and Dataset Knowledge Networks for Smartphones via Deep Neural Networks for Micro-Sensor Imaging and Diagn\n",
       "6   Bayesian deep learning and its evaluation as an adversarial attack on Riemannian random forest theory and its applications to online image classification and machine learning applications in clinical image classification\n",
       "7                                                            Bayesian Inference with a Differential Privacy for Learning Structured Relationships of Class Tasks using Probabilistic Bayes' Modeling System in the Cloud: a Data\n",
       "9                                                                       Bayesian Optimization and the Effect of Bayes Approxima in Dynamic Data Augmentation and Data Estimation via Randomized Weight-Bias Analysis and a Bias-\n",
       "10                                                                               Bayesian Algebraically-Aware Learning with Discriminative Convexity and Its Utility Function for Nonintrusive Features of Gaussian Processes: A\n",
       "12                                    Bayesian Inference for Cross-Modal Meta-Learning of Multi-task Learning Sets with Limited Information Bottleneck Methods with Limited Information Bottleneck Costs: A Data Mining Approach"
      ]
     },
     "execution_count": 69,
     "metadata": {},
     "output_type": "execute_result"
    }
   ],
   "source": [
    "import pandas as pd\n",
    "pd.set_option(\"max_colwidth\", 1000)\n",
    "\n",
    "pd.DataFrame(samples)[idx_objective].head(10)"
   ]
  },
  {
   "cell_type": "markdown",
   "metadata": {},
   "source": [
    "### Generated Samples that didn't pass"
   ]
  },
  {
   "cell_type": "code",
   "execution_count": 70,
   "metadata": {},
   "outputs": [
    {
     "data": {
      "text/html": [
       "<div>\n",
       "<style scoped>\n",
       "    .dataframe tbody tr th:only-of-type {\n",
       "        vertical-align: middle;\n",
       "    }\n",
       "\n",
       "    .dataframe tbody tr th {\n",
       "        vertical-align: top;\n",
       "    }\n",
       "\n",
       "    .dataframe thead th {\n",
       "        text-align: right;\n",
       "    }\n",
       "</style>\n",
       "<table border=\"1\" class=\"dataframe\">\n",
       "  <thead>\n",
       "    <tr style=\"text-align: right;\">\n",
       "      <th></th>\n",
       "      <th>generated_text</th>\n",
       "    </tr>\n",
       "  </thead>\n",
       "  <tbody>\n",
       "    <tr>\n",
       "      <th>589</th>\n",
       "      <td>Bayesian Inference in Kernel Reinforcement Learning Networks with Applications to Autonomous Robot Driving in the Edge-Network Environment? The Case of Software-Diversity, Application to Intelligent</td>\n",
       "    </tr>\n",
       "    <tr>\n",
       "      <th>63</th>\n",
       "      <td>Bayesian Linear Decomposition and its application to machine learning applications in medicine discovery and development of new products and services (LSTF) and medicine discovery in the US.</td>\n",
       "    </tr>\n",
       "    <tr>\n",
       "      <th>964</th>\n",
       "      <td>Bayesian Graph-based Generative Models for Multi-view Object Classification in the Wild: An Overview from the Field Survey and Review at BERT 2018 Competition (SXAS</td>\n",
       "    </tr>\n",
       "    <tr>\n",
       "      <th>582</th>\n",
       "      <td>Bayesian Optimization with Applications to Reinforcement Learning in Bayesian Inference (SINF) Games with Application to a Systematic Literature Review (BIRS) Dat</td>\n",
       "    </tr>\n",
       "    <tr>\n",
       "      <th>104</th>\n",
       "      <td>Bayesian Inference Attacks: A Solution to a Critical Error in Learning Multi-View Autonomous Vehicles in Urban Traffic Conditions via Bayesian Inference Models and Online Learning Techniques.</td>\n",
       "    </tr>\n",
       "    <tr>\n",
       "      <th>807</th>\n",
       "      <td>Bayesian Optimization of Stochastic Neural Networks Using Local Variance-Aware Policy Gradient Estimation and Adaptive Control Under Deep Reinforcement Learning Mechanism of Linear</td>\n",
       "    </tr>\n",
       "    <tr>\n",
       "      <th>912</th>\n",
       "      <td>Bayesian Optimization for Bayesian Optimization with Application to Deep Quantum Networks on Graphs' Power Flow: A Review of the Applications to the Physics of Computational Architecture and</td>\n",
       "    </tr>\n",
       "    <tr>\n",
       "      <th>559</th>\n",
       "      <td>Bayesian Inference with Multiple Instance Updates for Improved Online Learning in the COVID-19 Pandemic Using Deep Neural Networks (DNNs) and Machine Learning approaches (</td>\n",
       "    </tr>\n",
       "    <tr>\n",
       "      <th>16</th>\n",
       "      <td>Bayesian Multi-agent Deep Learning for Drug Discovery: A Survey on Drug Discovery for Drug Discovery and Clinical Study on Drug Application in Drug Discovery and Clinical Trial Results With Alzheimer's</td>\n",
       "    </tr>\n",
       "    <tr>\n",
       "      <th>129</th>\n",
       "      <td>Bayesian Reinforcement Learning with Sparsity-Aware Feedback Mechanism (AVER): the Perspective of Reinforcement Learning and Control over the Internet of Things and Machine Learning Appro</td>\n",
       "    </tr>\n",
       "  </tbody>\n",
       "</table>\n",
       "</div>"
      ],
      "text/plain": [
       "                                                                                                                                                                                                generated_text\n",
       "589     Bayesian Inference in Kernel Reinforcement Learning Networks with Applications to Autonomous Robot Driving in the Edge-Network Environment? The Case of Software-Diversity, Application to Intelligent\n",
       "63              Bayesian Linear Decomposition and its application to machine learning applications in medicine discovery and development of new products and services (LSTF) and medicine discovery in the US.\n",
       "964                                       Bayesian Graph-based Generative Models for Multi-view Object Classification in the Wild: An Overview from the Field Survey and Review at BERT 2018 Competition (SXAS\n",
       "582                                         Bayesian Optimization with Applications to Reinforcement Learning in Bayesian Inference (SINF) Games with Application to a Systematic Literature Review (BIRS) Dat\n",
       "104            Bayesian Inference Attacks: A Solution to a Critical Error in Learning Multi-View Autonomous Vehicles in Urban Traffic Conditions via Bayesian Inference Models and Online Learning Techniques.\n",
       "807                       Bayesian Optimization of Stochastic Neural Networks Using Local Variance-Aware Policy Gradient Estimation and Adaptive Control Under Deep Reinforcement Learning Mechanism of Linear\n",
       "912             Bayesian Optimization for Bayesian Optimization with Application to Deep Quantum Networks on Graphs' Power Flow: A Review of the Applications to the Physics of Computational Architecture and\n",
       "559                                Bayesian Inference with Multiple Instance Updates for Improved Online Learning in the COVID-19 Pandemic Using Deep Neural Networks (DNNs) and Machine Learning approaches (\n",
       "16   Bayesian Multi-agent Deep Learning for Drug Discovery: A Survey on Drug Discovery for Drug Discovery and Clinical Study on Drug Application in Drug Discovery and Clinical Trial Results With Alzheimer's\n",
       "129                Bayesian Reinforcement Learning with Sparsity-Aware Feedback Mechanism (AVER): the Perspective of Reinforcement Learning and Control over the Internet of Things and Machine Learning Appro"
      ]
     },
     "execution_count": 70,
     "metadata": {},
     "output_type": "execute_result"
    }
   ],
   "source": [
    "pd.DataFrame(samples)[~idx_objective].sample(10)"
   ]
  }
 ],
 "metadata": {
  "kernelspec": {
   "display_name": "base",
   "language": "python",
   "name": "python3"
  },
  "language_info": {
   "codemirror_mode": {
    "name": "ipython",
    "version": 3
   },
   "file_extension": ".py",
   "mimetype": "text/x-python",
   "name": "python",
   "nbconvert_exporter": "python",
   "pygments_lexer": "ipython3",
   "version": "3.10.9"
  }
 },
 "nbformat": 4,
 "nbformat_minor": 2
}
