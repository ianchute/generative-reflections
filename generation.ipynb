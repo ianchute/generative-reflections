{
 "cells": [
  {
   "cell_type": "code",
   "execution_count": 1,
   "metadata": {},
   "outputs": [
    {
     "name": "stderr",
     "output_type": "stream",
     "text": [
      "Some weights of RobertaModel were not initialized from the model checkpoint at ./results_masked/checkpoint-39000 and are newly initialized: ['roberta.pooler.dense.bias', 'roberta.pooler.dense.weight']\n",
      "You should probably TRAIN this model on a down-stream task to be able to use it for predictions and inference.\n"
     ]
    }
   ],
   "source": [
    "from transformers import AutoTokenizer, pipeline\n",
    "\n",
    "tokenizer_gen = AutoTokenizer.from_pretrained(\"distilgpt2\", padding_side=\"left\")\n",
    "generator = pipeline(\n",
    "    \"text-generation\",\n",
    "    \"./results_causal/checkpoint-39000\",\n",
    "    tokenizer=tokenizer_gen,\n",
    "    pad_token_id=50256,\n",
    ")\n",
    "\n",
    "tokenizer_ref = AutoTokenizer.from_pretrained(\"distilroberta-base\", padding_side=\"left\")\n",
    "reflector = pipeline(\n",
    "    \"feature-extraction\",\n",
    "    \"./results_masked/checkpoint-39000\",\n",
    "    tokenizer=tokenizer_ref,\n",
    "    pad_token_id=50256,\n",
    ")"
   ]
  },
  {
   "cell_type": "code",
   "execution_count": 2,
   "metadata": {},
   "outputs": [],
   "source": [
    "samples = generator(\n",
    "    text_inputs=\"Unsupervised\",\n",
    "    num_return_sequences=5000,\n",
    "    max_length=25,\n",
    "    truncation=True,\n",
    ")"
   ]
  },
  {
   "cell_type": "code",
   "execution_count": null,
   "metadata": {},
   "outputs": [],
   "source": [
    "import gc\n",
    "del generator\n",
    "del tokenizer_gen\n",
    "gc.collect()"
   ]
  },
  {
   "cell_type": "code",
   "execution_count": 3,
   "metadata": {},
   "outputs": [],
   "source": [
    "import numpy as np\n",
    "outputs = reflector([s[\"generated_text\"] for s in samples])\n",
    "outputs = np.array([output[-1][-1] for output in outputs])"
   ]
  },
  {
   "cell_type": "code",
   "execution_count": null,
   "metadata": {},
   "outputs": [],
   "source": [
    "del reflector\n",
    "del tokenizer_ref\n",
    "gc.collect()"
   ]
  },
  {
   "cell_type": "code",
   "execution_count": 4,
   "metadata": {},
   "outputs": [],
   "source": [
    "from sklearn.metrics.pairwise import cosine_distances\n",
    "V = np.load(\"vectors_samples.npy\")\n",
    "D = cosine_distances(outputs, V)"
   ]
  },
  {
   "cell_type": "code",
   "execution_count": 5,
   "metadata": {},
   "outputs": [
    {
     "data": {
      "text/plain": [
       "3542"
      ]
     },
     "execution_count": 5,
     "metadata": {},
     "output_type": "execute_result"
    }
   ],
   "source": [
    "idx_novelty = D.min(axis=1) >= 0.001\n",
    "idx_novelty.sum()"
   ]
  },
  {
   "cell_type": "code",
   "execution_count": 6,
   "metadata": {},
   "outputs": [
    {
     "data": {
      "text/plain": [
       "4872"
      ]
     },
     "execution_count": 6,
     "metadata": {},
     "output_type": "execute_result"
    }
   ],
   "source": [
    "idx_feasibility = (D <= 0.003).sum(axis=1) >= 50\n",
    "idx_feasibility.sum()"
   ]
  },
  {
   "cell_type": "code",
   "execution_count": 7,
   "metadata": {},
   "outputs": [
    {
     "data": {
      "text/plain": [
       "3414"
      ]
     },
     "execution_count": 7,
     "metadata": {},
     "output_type": "execute_result"
    }
   ],
   "source": [
    "idx_objective = idx_novelty & idx_feasibility\n",
    "idx_objective.sum()"
   ]
  },
  {
   "cell_type": "markdown",
   "metadata": {},
   "source": [
    "### Results"
   ]
  },
  {
   "cell_type": "code",
   "execution_count": 8,
   "metadata": {},
   "outputs": [],
   "source": [
    "import pandas as pd\n",
    "pd.set_option(\"max_colwidth\", 200)\n",
    "\n",
    "results = pd.DataFrame(samples)\n",
    "results[\"novelty_score\"] = D.min(axis=1) / D.min(axis=1).std()\n",
    "results[\"feasibility_score\"] = (D <= 0.003).sum(axis=1) / (D <= 0.003).sum(axis=1).std()\n",
    "results[\"reflection_score\"] = np.sqrt((D <= 0.003).sum(axis=1) * D.min(axis=1))\n",
    "results[\"passed_threshold\"] = idx_objective\n",
    "results = (\n",
    "    results.sort_values(\"reflection_score\", ascending=False)\n",
    "    .reset_index(drop=True)\n",
    "    .round(3)\n",
    ")"
   ]
  },
  {
   "cell_type": "markdown",
   "metadata": {},
   "source": [
    "#### Best Generated Text\n",
    "\n",
    "*Reasonably novel and very feasible*"
   ]
  },
  {
   "cell_type": "code",
   "execution_count": 9,
   "metadata": {},
   "outputs": [
    {
     "data": {
      "text/html": [
       "<div>\n",
       "<style scoped>\n",
       "    .dataframe tbody tr th:only-of-type {\n",
       "        vertical-align: middle;\n",
       "    }\n",
       "\n",
       "    .dataframe tbody tr th {\n",
       "        vertical-align: top;\n",
       "    }\n",
       "\n",
       "    .dataframe thead th {\n",
       "        text-align: right;\n",
       "    }\n",
       "</style>\n",
       "<table border=\"1\" class=\"dataframe\">\n",
       "  <thead>\n",
       "    <tr style=\"text-align: right;\">\n",
       "      <th></th>\n",
       "      <th>generated_text</th>\n",
       "      <th>novelty_score</th>\n",
       "      <th>feasibility_score</th>\n",
       "      <th>reflection_score</th>\n",
       "      <th>passed_threshold</th>\n",
       "    </tr>\n",
       "  </thead>\n",
       "  <tbody>\n",
       "    <tr>\n",
       "      <th>0</th>\n",
       "      <td>Unsupervised Generative Transformer Network for Time Series Generation: Improved Accuracy, Constraint Bias and Interpretable Guarant</td>\n",
       "      <td>0.335</td>\n",
       "      <td>3.816</td>\n",
       "      <td>3.783</td>\n",
       "      <td>True</td>\n",
       "    </tr>\n",
       "    <tr>\n",
       "      <th>1</th>\n",
       "      <td>Unsupervised Domain Adaptation using Transfer Learning with Variational Autoencoder Embeddings with Application to Edge Applications and</td>\n",
       "      <td>0.362</td>\n",
       "      <td>3.486</td>\n",
       "      <td>3.757</td>\n",
       "      <td>True</td>\n",
       "    </tr>\n",
       "    <tr>\n",
       "      <th>2</th>\n",
       "      <td>Unsupervised Subspace Clustering for Speech Recognition Using Generative Models: A Case Study in the UK, Italy</td>\n",
       "      <td>0.396</td>\n",
       "      <td>3.123</td>\n",
       "      <td>3.723</td>\n",
       "      <td>True</td>\n",
       "    </tr>\n",
       "    <tr>\n",
       "      <th>3</th>\n",
       "      <td>Unsupervised Learning of Dynamic Local Kernels Algorithms for Visual Analytics: A New Perspective From the Perspective of Sparse</td>\n",
       "      <td>0.424</td>\n",
       "      <td>2.914</td>\n",
       "      <td>3.719</td>\n",
       "      <td>True</td>\n",
       "    </tr>\n",
       "    <tr>\n",
       "      <th>4</th>\n",
       "      <td>Unsupervised Learning from Unlabeled Data Using Bayesian Neural Networks: How to Achieve the Best of Both Worlds? A</td>\n",
       "      <td>0.489</td>\n",
       "      <td>2.515</td>\n",
       "      <td>3.711</td>\n",
       "      <td>True</td>\n",
       "    </tr>\n",
       "    <tr>\n",
       "      <th>5</th>\n",
       "      <td>Unsupervised Deep Reinforcement Learning for Unsupervised Feature Extraction in Automated Time Series Prediction Using Neural Networks: A</td>\n",
       "      <td>0.390</td>\n",
       "      <td>3.139</td>\n",
       "      <td>3.705</td>\n",
       "      <td>True</td>\n",
       "    </tr>\n",
       "    <tr>\n",
       "      <th>6</th>\n",
       "      <td>Unsupervised Deep Learning with Gradient-invariant Feature Selection for Imbalanced Data Systems: Application to Machine Learning and</td>\n",
       "      <td>0.355</td>\n",
       "      <td>3.435</td>\n",
       "      <td>3.694</td>\n",
       "      <td>True</td>\n",
       "    </tr>\n",
       "    <tr>\n",
       "      <th>7</th>\n",
       "      <td>Unsupervised Prediction of COVID-19 with Transductive Feature Embeddings as a Neural Network Model with Sparse</td>\n",
       "      <td>0.348</td>\n",
       "      <td>3.496</td>\n",
       "      <td>3.693</td>\n",
       "      <td>True</td>\n",
       "    </tr>\n",
       "    <tr>\n",
       "      <th>8</th>\n",
       "      <td>Unsupervised Text Classification With Graph Convolutional Network: A Case Study in the Use of Unsupervised Objectives Towards</td>\n",
       "      <td>0.377</td>\n",
       "      <td>3.229</td>\n",
       "      <td>3.693</td>\n",
       "      <td>True</td>\n",
       "    </tr>\n",
       "    <tr>\n",
       "      <th>9</th>\n",
       "      <td>Unsupervised and Hierarchical Learning and Uncertainty Detection for Natural Language Processing Time Series Data through a Framework of Deep</td>\n",
       "      <td>0.378</td>\n",
       "      <td>3.215</td>\n",
       "      <td>3.689</td>\n",
       "      <td>True</td>\n",
       "    </tr>\n",
       "  </tbody>\n",
       "</table>\n",
       "</div>"
      ],
      "text/plain": [
       "                                                                                                                                  generated_text  \\\n",
       "0           Unsupervised Generative Transformer Network for Time Series Generation: Improved Accuracy, Constraint Bias and Interpretable Guarant   \n",
       "1       Unsupervised Domain Adaptation using Transfer Learning with Variational Autoencoder Embeddings with Application to Edge Applications and   \n",
       "2                                 Unsupervised Subspace Clustering for Speech Recognition Using Generative Models: A Case Study in the UK, Italy   \n",
       "3               Unsupervised Learning of Dynamic Local Kernels Algorithms for Visual Analytics: A New Perspective From the Perspective of Sparse   \n",
       "4                            Unsupervised Learning from Unlabeled Data Using Bayesian Neural Networks: How to Achieve the Best of Both Worlds? A   \n",
       "5      Unsupervised Deep Reinforcement Learning for Unsupervised Feature Extraction in Automated Time Series Prediction Using Neural Networks: A   \n",
       "6          Unsupervised Deep Learning with Gradient-invariant Feature Selection for Imbalanced Data Systems: Application to Machine Learning and   \n",
       "7                                 Unsupervised Prediction of COVID-19 with Transductive Feature Embeddings as a Neural Network Model with Sparse   \n",
       "8                  Unsupervised Text Classification With Graph Convolutional Network: A Case Study in the Use of Unsupervised Objectives Towards   \n",
       "9  Unsupervised and Hierarchical Learning and Uncertainty Detection for Natural Language Processing Time Series Data through a Framework of Deep   \n",
       "\n",
       "   novelty_score  feasibility_score  reflection_score  passed_threshold  \n",
       "0          0.335              3.816             3.783              True  \n",
       "1          0.362              3.486             3.757              True  \n",
       "2          0.396              3.123             3.723              True  \n",
       "3          0.424              2.914             3.719              True  \n",
       "4          0.489              2.515             3.711              True  \n",
       "5          0.390              3.139             3.705              True  \n",
       "6          0.355              3.435             3.694              True  \n",
       "7          0.348              3.496             3.693              True  \n",
       "8          0.377              3.229             3.693              True  \n",
       "9          0.378              3.215             3.689              True  "
      ]
     },
     "execution_count": 9,
     "metadata": {},
     "output_type": "execute_result"
    }
   ],
   "source": [
    "results[results[\"passed_threshold\"]].head(10)"
   ]
  },
  {
   "cell_type": "markdown",
   "metadata": {},
   "source": [
    "#### Worst Generated Text\n",
    "\n",
    "*Novel but infeasible*"
   ]
  },
  {
   "cell_type": "code",
   "execution_count": 10,
   "metadata": {},
   "outputs": [
    {
     "data": {
      "text/html": [
       "<div>\n",
       "<style scoped>\n",
       "    .dataframe tbody tr th:only-of-type {\n",
       "        vertical-align: middle;\n",
       "    }\n",
       "\n",
       "    .dataframe tbody tr th {\n",
       "        vertical-align: top;\n",
       "    }\n",
       "\n",
       "    .dataframe thead th {\n",
       "        text-align: right;\n",
       "    }\n",
       "</style>\n",
       "<table border=\"1\" class=\"dataframe\">\n",
       "  <thead>\n",
       "    <tr style=\"text-align: right;\">\n",
       "      <th></th>\n",
       "      <th>generated_text</th>\n",
       "      <th>novelty_score</th>\n",
       "      <th>feasibility_score</th>\n",
       "      <th>reflection_score</th>\n",
       "      <th>passed_threshold</th>\n",
       "    </tr>\n",
       "  </thead>\n",
       "  <tbody>\n",
       "    <tr>\n",
       "      <th>4999</th>\n",
       "      <td>Unsupervised Graph-based Convolutional Transformers for Human Action Recognition in Mobile Devices using Deep Network Training Models (DS</td>\n",
       "      <td>1.449</td>\n",
       "      <td>0.0</td>\n",
       "      <td>0.0</td>\n",
       "      <td>False</td>\n",
       "    </tr>\n",
       "    <tr>\n",
       "      <th>4998</th>\n",
       "      <td>Unsupervised Deep Learning on Time Series Data for Predictive Control of the Vehicle Driving Simulator (VTA) Prediction System (</td>\n",
       "      <td>1.182</td>\n",
       "      <td>0.0</td>\n",
       "      <td>0.0</td>\n",
       "      <td>False</td>\n",
       "    </tr>\n",
       "    <tr>\n",
       "      <th>4997</th>\n",
       "      <td>Unsupervised Neural Translation Transformers for Non-Supervised Speech Recognition with Latent Variable Transformation (TRT2-D</td>\n",
       "      <td>1.580</td>\n",
       "      <td>0.0</td>\n",
       "      <td>0.0</td>\n",
       "      <td>False</td>\n",
       "    </tr>\n",
       "    <tr>\n",
       "      <th>4996</th>\n",
       "      <td>Unsupervised Pre-training with Attention-based Memory Models for Anomaly Detection in Internet of Things (IoT II</td>\n",
       "      <td>0.898</td>\n",
       "      <td>0.0</td>\n",
       "      <td>0.0</td>\n",
       "      <td>False</td>\n",
       "    </tr>\n",
       "    <tr>\n",
       "      <th>4995</th>\n",
       "      <td>Unsupervised Transfer Learning in Continuous Time for Visual Scene Analysis of Pedestrians Through Dynamic Contextual Networks (DAR-</td>\n",
       "      <td>1.317</td>\n",
       "      <td>0.0</td>\n",
       "      <td>0.0</td>\n",
       "      <td>False</td>\n",
       "    </tr>\n",
       "    <tr>\n",
       "      <th>4994</th>\n",
       "      <td>Unsupervised Inference with Gradient Descent via Deep Convolutional Neural Networks for Speech Recognition (VDAD</td>\n",
       "      <td>1.625</td>\n",
       "      <td>0.0</td>\n",
       "      <td>0.0</td>\n",
       "      <td>False</td>\n",
       "    </tr>\n",
       "    <tr>\n",
       "      <th>4993</th>\n",
       "      <td>Unsupervised learning based on sparse weight classification: An evaluation study for the presence of missing data in the dataset and beyond (</td>\n",
       "      <td>1.133</td>\n",
       "      <td>0.0</td>\n",
       "      <td>0.0</td>\n",
       "      <td>False</td>\n",
       "    </tr>\n",
       "    <tr>\n",
       "      <th>4992</th>\n",
       "      <td>Unsupervised Deep Learning on Graphs Using Generative Adversarial Networks: A Comparison of Methods and Experiments Beyond.</td>\n",
       "      <td>16.915</td>\n",
       "      <td>0.0</td>\n",
       "      <td>0.0</td>\n",
       "      <td>False</td>\n",
       "    </tr>\n",
       "    <tr>\n",
       "      <th>4991</th>\n",
       "      <td>Unsupervised Online Learning in Neural Networks for Classification of Spine Genomic Data Using an Ensemble of Machine Learning Models (</td>\n",
       "      <td>1.076</td>\n",
       "      <td>0.0</td>\n",
       "      <td>0.0</td>\n",
       "      <td>False</td>\n",
       "    </tr>\n",
       "    <tr>\n",
       "      <th>4990</th>\n",
       "      <td>Unsupervised Learning of Low Rank Objects from Human Eye-View Images Using a Deep Q-Learning Framework (DQF</td>\n",
       "      <td>1.541</td>\n",
       "      <td>0.0</td>\n",
       "      <td>0.0</td>\n",
       "      <td>False</td>\n",
       "    </tr>\n",
       "  </tbody>\n",
       "</table>\n",
       "</div>"
      ],
      "text/plain": [
       "                                                                                                                                     generated_text  \\\n",
       "4999      Unsupervised Graph-based Convolutional Transformers for Human Action Recognition in Mobile Devices using Deep Network Training Models (DS   \n",
       "4998               Unsupervised Deep Learning on Time Series Data for Predictive Control of the Vehicle Driving Simulator (VTA) Prediction System (   \n",
       "4997                 Unsupervised Neural Translation Transformers for Non-Supervised Speech Recognition with Latent Variable Transformation (TRT2-D   \n",
       "4996                               Unsupervised Pre-training with Attention-based Memory Models for Anomaly Detection in Internet of Things (IoT II   \n",
       "4995           Unsupervised Transfer Learning in Continuous Time for Visual Scene Analysis of Pedestrians Through Dynamic Contextual Networks (DAR-   \n",
       "4994                               Unsupervised Inference with Gradient Descent via Deep Convolutional Neural Networks for Speech Recognition (VDAD   \n",
       "4993  Unsupervised learning based on sparse weight classification: An evaluation study for the presence of missing data in the dataset and beyond (   \n",
       "4992                    Unsupervised Deep Learning on Graphs Using Generative Adversarial Networks: A Comparison of Methods and Experiments Beyond.   \n",
       "4991        Unsupervised Online Learning in Neural Networks for Classification of Spine Genomic Data Using an Ensemble of Machine Learning Models (   \n",
       "4990                                    Unsupervised Learning of Low Rank Objects from Human Eye-View Images Using a Deep Q-Learning Framework (DQF   \n",
       "\n",
       "      novelty_score  feasibility_score  reflection_score  passed_threshold  \n",
       "4999          1.449                0.0               0.0             False  \n",
       "4998          1.182                0.0               0.0             False  \n",
       "4997          1.580                0.0               0.0             False  \n",
       "4996          0.898                0.0               0.0             False  \n",
       "4995          1.317                0.0               0.0             False  \n",
       "4994          1.625                0.0               0.0             False  \n",
       "4993          1.133                0.0               0.0             False  \n",
       "4992         16.915                0.0               0.0             False  \n",
       "4991          1.076                0.0               0.0             False  \n",
       "4990          1.541                0.0               0.0             False  "
      ]
     },
     "execution_count": 10,
     "metadata": {},
     "output_type": "execute_result"
    }
   ],
   "source": [
    "results[~results[\"passed_threshold\"]].tail(10)[::-1]"
   ]
  }
 ],
 "metadata": {
  "kernelspec": {
   "display_name": "base",
   "language": "python",
   "name": "python3"
  },
  "language_info": {
   "codemirror_mode": {
    "name": "ipython",
    "version": 3
   },
   "file_extension": ".py",
   "mimetype": "text/x-python",
   "name": "python",
   "nbconvert_exporter": "python",
   "pygments_lexer": "ipython3",
   "version": "3.10.9"
  }
 },
 "nbformat": 4,
 "nbformat_minor": 2
}
